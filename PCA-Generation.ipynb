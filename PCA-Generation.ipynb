{
 "cells": [
  {
   "attachments": {},
   "cell_type": "markdown",
   "metadata": {},
   "source": [
    "## **This Notebook is for generating PCA Graph to find optimal number of Principle Components**"
   ]
  },
  {
   "attachments": {},
   "cell_type": "markdown",
   "metadata": {},
   "source": [
    "### **Importing Libraries**"
   ]
  },
  {
   "cell_type": "code",
   "execution_count": null,
   "metadata": {},
   "outputs": [],
   "source": [
    "import pandas as pd\n",
    "from IPython.display import display, clear_output\n",
    "from sklearn.decomposition import PCA\n",
    "from sklearn.linear_model import LogisticRegression\n",
    "from sklearn.svm import SVC\n",
    "from sklearn.ensemble import RandomForestClassifier\n",
    "import xgboost as xgb\n",
    "from sklearn import metrics"
   ]
  },
  {
   "attachments": {},
   "cell_type": "markdown",
   "metadata": {},
   "source": [
    "### **Reading Data**"
   ]
  },
  {
   "cell_type": "code",
   "execution_count": null,
   "metadata": {},
   "outputs": [],
   "source": [
    "df = pd.read_csv('train.csv')\n",
    "df_test = pd.read_csv('test.csv')\n",
    "df_trim = df.drop(['subject', 'Activity'], axis = 1)"
   ]
  },
  {
   "attachments": {},
   "cell_type": "markdown",
   "metadata": {},
   "source": [
    "### **Read the pca_acc.txt file and check last calculated Principal Component Number**"
   ]
  },
  {
   "cell_type": "code",
   "execution_count": null,
   "metadata": {},
   "outputs": [],
   "source": [
    "with open('pca_acc.txt', 'r+') as f:\n",
    "    lines = f.readlines()\n",
    "\n",
    "if len(lines) != 0:   \n",
    "    n = int(lines[-1].split(' ')[0]) + 1\n",
    "else:\n",
    "    n = 1"
   ]
  },
  {
   "attachments": {},
   "cell_type": "markdown",
   "metadata": {},
   "source": [
    "### **Run Loop from last number of components to required number**"
   ]
  },
  {
   "cell_type": "code",
   "execution_count": null,
   "metadata": {},
   "outputs": [],
   "source": [
    "for i in range(n, 70):    \n",
    "    clear_output()\n",
    "    display(f'Running Principal Analysis for {i} Components')\n",
    "    \n",
    "    # Fit PCA\n",
    "    pca = PCA(n_components = i)\n",
    "    pca.fit(df_trim)\n",
    "    reduced = pca.transform(df_trim)\n",
    "    red_test = pca.transform(df_test.iloc[:, :-2])\n",
    "    \n",
    "    # Data Prep\n",
    "    df_pca = pd.DataFrame(reduced)\n",
    "    df_pca_test = pd.DataFrame(red_test)\n",
    "    df_pca['activity'] = df['Activity']\n",
    "    df_pca_test['activity'] = df_test['Activity']\n",
    "\n",
    "    X_train = df_pca.iloc[:, :-1]\n",
    "    y_train = df_pca.iloc[:, -1]\n",
    "    X_test = df_pca_test.iloc[:, :-1]\n",
    "    y_test = df_pca_test.iloc[:, -1]\n",
    "    \n",
    "    # Logistic Regression\n",
    "    model_lr = LogisticRegression(random_state=0, multi_class='multinomial', penalty='none', solver='newton-cg')\n",
    "    model_lr.fit(X_train, y_train)\n",
    "    preds_lr = model_lr.predict(X_test)\n",
    "    acc_lr = metrics.accuracy_score(y_test, preds_lr)\n",
    "\n",
    "    # Random Forest\n",
    "    model_clf = RandomForestClassifier(n_estimators=100)\n",
    "    model_clf.fit(X_train,y_train)\n",
    "    preds_clf = model_clf.predict(X_test)\n",
    "    acc_clf = metrics.accuracy_score(y_test, preds_clf)\n",
    "\n",
    "    # XGBoost\n",
    "    model_xgb = xgb.XGBClassifier()\n",
    "    model_xgb.fit(X_train, y_train)\n",
    "    preds_xgb = model_xgb.predict(X_test)\n",
    "    acc_xgb = metrics.accuracy_score(y_test, preds_xgb)\n",
    "    \n",
    "    # SVM\n",
    "    model_svm = SVC()\n",
    "    model_svm.fit(X_train, y_train)\n",
    "    preds_svm = model_svm.predict(X_test)\n",
    "    acc_svm = metrics.accuracy_score(y_test, preds_svm)\n",
    "\n",
    "    # Write results to txt file\n",
    "    with open('pca_acc.txt', 'a') as f:\n",
    "        f.write(f'{i} {acc_lr} {acc_clf} {acc_xgb} {acc_svm}\\n')"
   ]
  }
 ],
 "metadata": {
  "kernelspec": {
   "display_name": "Python 3.9.7 ('base')",
   "language": "python",
   "name": "python3"
  },
  "language_info": {
   "codemirror_mode": {
    "name": "ipython",
    "version": 3
   },
   "file_extension": ".py",
   "mimetype": "text/x-python",
   "name": "python",
   "nbconvert_exporter": "python",
   "pygments_lexer": "ipython3",
   "version": "3.9.16"
  },
  "orig_nbformat": 4,
  "vscode": {
   "interpreter": {
    "hash": "51e1b0517d815532bbf487b1d4fdd8339aab76bba52990c488be635c5b0d18b1"
   }
  }
 },
 "nbformat": 4,
 "nbformat_minor": 2
}
